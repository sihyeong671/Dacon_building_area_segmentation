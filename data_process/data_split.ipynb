{
 "cells": [
  {
   "cell_type": "code",
   "execution_count": 10,
   "metadata": {},
   "outputs": [],
   "source": [
    "import pandas as pd\n",
    "import numpy as np\n",
    "import shutil\n",
    "import cv2\n",
    "from PIL import Image\n",
    "import os\n",
    "from sklearn.model_selection import train_test_split"
   ]
  },
  {
   "cell_type": "code",
   "execution_count": 5,
   "metadata": {},
   "outputs": [],
   "source": [
    "df = pd.read_csv(\"./train_ratio.csv\")"
   ]
  },
  {
   "cell_type": "code",
   "execution_count": 6,
   "metadata": {},
   "outputs": [],
   "source": [
    "x_train, x_val, y_train, y_val = train_test_split(df[\"img_path\"], df[\"mask_rle\"], random_state=42, test_size=0.2, stratify=df[\"ratio_type\"])"
   ]
  },
  {
   "cell_type": "code",
   "execution_count": 7,
   "metadata": {},
   "outputs": [],
   "source": [
    "def rle_decode(mask_rle, shape):\n",
    "    s = mask_rle.split()\n",
    "    starts, lengths = [np.asarray(x, dtype=int) for x in (s[0:][::2], s[1:][::2])]\n",
    "    starts -= 1\n",
    "    ends = starts + lengths\n",
    "    img = np.zeros(shape[0]*shape[1], dtype=np.uint8)\n",
    "    for lo, hi in zip(starts, ends):\n",
    "        img[lo:hi] = 1\n",
    "    img = img.reshape(shape)\n",
    "    return img\n",
    "\n",
    "# RLE 인코딩 함수\n",
    "def rle_encode(mask):\n",
    "\n",
    "    pixels = mask.flatten()\n",
    "    pixels = np.concatenate([[0], pixels, [0]])\n",
    "    runs = np.where(pixels[1:] != pixels[:-1])[0] + 1\n",
    "    runs[1::2] -= runs[::2]\n",
    "    return ' '.join(str(x) for x in runs)"
   ]
  },
  {
   "cell_type": "code",
   "execution_count": 11,
   "metadata": {},
   "outputs": [],
   "source": [
    "os.makedirs(\"data/images/train\", exist_ok=True)\n",
    "os.makedirs(\"data/images/val\", exist_ok=True)\n",
    "\n",
    "os.makedirs(\"data/annotations/train\", exist_ok=True)\n",
    "os.makedirs(\"data/annotations/val\", exist_ok=True)\n",
    "\n",
    "\n",
    "# convert dataset annotation to semantic segmentation map\n",
    "data_root = 'data'\n",
    "img_dir = \"images\"\n",
    "ann_dir = \"annotations\"\n",
    "# define class and plaette for better visualization\n",
    "palette = [128, 0, 0, 0, 128, 0]\n",
    "\n",
    "for x, y in zip(x_train, y_train):\n",
    "  img_name = x.split(\"/\")[-1]\n",
    "  shutil.copy(os.path.join(data_root, x), os.path.join(data_root, f\"{img_dir}/train/{img_name}\"))\n",
    "  img_path = os.path.join(data_root, x)\n",
    "  img = cv2.imread(img_path) # BGR\n",
    "  h, w, _ = img.shape\n",
    "  ann_img = rle_decode(y, (h, w))\n",
    "  png = Image.fromarray(ann_img).convert('P')\n",
    "  png.putpalette(palette)\n",
    "  png.save(os.path.join(data_root, f\"{ann_dir}/train/{img_name}\"))\n",
    "  del png\n",
    "\n",
    "\n",
    "for x, y in zip(x_val, y_val):\n",
    "  img_name = x.split(\"/\")[-1]\n",
    "  shutil.copy(os.path.join(data_root, x), os.path.join(data_root, f\"{img_dir}/val/{img_name}\"))\n",
    "  img_path = os.path.join(data_root, x)\n",
    "  img = cv2.imread(img_path) # BGR\n",
    "  h, w, _ = img.shape\n",
    "  ann_img = rle_decode(y, (h, w))\n",
    "  png = Image.fromarray(ann_img).convert('P')\n",
    "  png.putpalette(palette)\n",
    "  png.save(os.path.join(data_root, f\"{ann_dir}/val/{img_name}\"))\n",
    "  del png"
   ]
  }
 ],
 "metadata": {
  "kernelspec": {
   "display_name": "Python 3.9.16 ('pythonTest-nlmOGtSY')",
   "language": "python",
   "name": "python3"
  },
  "language_info": {
   "codemirror_mode": {
    "name": "ipython",
    "version": 3
   },
   "file_extension": ".py",
   "mimetype": "text/x-python",
   "name": "python",
   "nbconvert_exporter": "python",
   "pygments_lexer": "ipython3",
   "version": "3.9.16"
  },
  "orig_nbformat": 4,
  "vscode": {
   "interpreter": {
    "hash": "224fc29b9670140322a466546ec330bee6b31de50704efb44503b5f31199a293"
   }
  }
 },
 "nbformat": 4,
 "nbformat_minor": 2
}
