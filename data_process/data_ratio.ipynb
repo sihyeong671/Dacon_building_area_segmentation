{
 "cells": [
  {
   "cell_type": "code",
   "execution_count": 1,
   "metadata": {},
   "outputs": [],
   "source": [
    "import pandas as pd\n",
    "import numpy as np\n",
    "import os\n",
    "import cv2"
   ]
  },
  {
   "cell_type": "code",
   "execution_count": 2,
   "metadata": {},
   "outputs": [],
   "source": [
    "df = pd.read_csv(\"./open/train.csv\")"
   ]
  },
  {
   "cell_type": "code",
   "execution_count": 3,
   "metadata": {},
   "outputs": [],
   "source": [
    "def get_ratio(mask_rle, shape):\n",
    "    s = mask_rle.split()\n",
    "    starts, lengths = [np.asarray(x, dtype=int) for x in (s[0:][::2], s[1:][::2])]\n",
    "    img_area = shape[0] * shape[1]\n",
    "    return sum(lengths) / img_area * 100, (img_area - sum(lengths)) / img_area * 100"
   ]
  },
  {
   "cell_type": "code",
   "execution_count": 5,
   "metadata": {},
   "outputs": [],
   "source": [
    "building_ratio_lst = []\n",
    "background_ratio_lst = []\n",
    "for idx, row in df.iterrows():\n",
    "  img_path = df.iloc[idx, 1]\n",
    "  img = cv2.imread(os.path.join(\"./open\", img_path))\n",
    "  h, w, _ = img.shape\n",
    "  mask_rle = df.iloc[idx, 2]\n",
    "  building_ratio, background_ratio = get_ratio(mask_rle, (h, w))\n",
    "  building_ratio_lst.append(building_ratio)\n",
    "  background_ratio_lst.append(background_ratio)"
   ]
  },
  {
   "cell_type": "code",
   "execution_count": 10,
   "metadata": {},
   "outputs": [],
   "source": [
    "ratio_lst = []\n",
    "for br in building_ratio_lst:\n",
    "    if br <= 3:\n",
    "        ratio_lst.append(3)\n",
    "    elif br <= 5:\n",
    "        ratio_lst.append(5)\n",
    "    elif br <= 10:\n",
    "        ratio_lst.append(10)\n",
    "    elif br <= 30:\n",
    "        ratio_lst.append(30)\n",
    "    elif br <= 50:\n",
    "        ratio_lst.append(50)\n",
    "    else:\n",
    "        ratio_lst.append(100)\n",
    "df[\"ratio_type\"] = ratio_lst\n",
    "df.to_csv(\"train_ratio.csv\", index=False)"
   ]
  },
  {
   "cell_type": "code",
   "execution_count": 11,
   "metadata": {},
   "outputs": [
    {
     "data": {
      "text/plain": [
       "Counter({10: 2432, 3: 2263, 5: 1349, 30: 1086, 50: 10})"
      ]
     },
     "execution_count": 11,
     "metadata": {},
     "output_type": "execute_result"
    }
   ],
   "source": [
    "from collections import Counter\n",
    "Counter(ratio_lst)"
   ]
  },
  {
   "cell_type": "code",
   "execution_count": null,
   "metadata": {},
   "outputs": [],
   "source": []
  }
 ],
 "metadata": {
  "kernelspec": {
   "display_name": "Python 3.9.16 ('pythonTest-nlmOGtSY')",
   "language": "python",
   "name": "python3"
  },
  "language_info": {
   "codemirror_mode": {
    "name": "ipython",
    "version": 3
   },
   "file_extension": ".py",
   "mimetype": "text/x-python",
   "name": "python",
   "nbconvert_exporter": "python",
   "pygments_lexer": "ipython3",
   "version": "3.9.16"
  },
  "orig_nbformat": 4,
  "vscode": {
   "interpreter": {
    "hash": "224fc29b9670140322a466546ec330bee6b31de50704efb44503b5f31199a293"
   }
  }
 },
 "nbformat": 4,
 "nbformat_minor": 2
}
