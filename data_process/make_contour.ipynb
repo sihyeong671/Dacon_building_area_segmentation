{
 "cells": [
  {
   "cell_type": "code",
   "execution_count": 1,
   "metadata": {},
   "outputs": [],
   "source": [
    "from glob import glob\n",
    "import os\n",
    "import cv2\n",
    "from PIL import Image\n",
    "import numpy as np\n",
    "import matplotlib.pyplot as plt"
   ]
  },
  {
   "cell_type": "code",
   "execution_count": 2,
   "metadata": {},
   "outputs": [],
   "source": [
    "train_ann_paths = glob(\"./data/annotations/train/*\")\n",
    "val_ann_paths = glob(\"./data/annotations/val/*\")"
   ]
  },
  {
   "cell_type": "code",
   "execution_count": 3,
   "metadata": {},
   "outputs": [],
   "source": [
    "for path in train_ann_paths:\n",
    "    img_name = path.split(\"/\")[-1]\n",
    "    img = Image.open(path)\n",
    "    img = np.array(img)\n",
    "    contour, hierarchy = cv2.findContours(img, mode=cv2.RETR_EXTERNAL, method=cv2.CHAIN_APPROX_NONE)\n",
    "    img = cv2.drawContours(img, contour, -1, 2, 3, cv2.LINE_8)\n",
    "    img = Image.fromarray(img).convert('P')\n",
    "    img.putpalette([128, 0, 0, 0, 128, 0, 0, 0, 128])\n",
    "    img.save(os.path.join(\"data/annotations_l3/train\", img_name))\n",
    "\n",
    "for path in val_ann_paths:\n",
    "    img_name = path.split(\"/\")[-1]\n",
    "    img = Image.open(path)\n",
    "    img = np.array(img)\n",
    "    contour, hierarchy = cv2.findContours(img, mode=cv2.RETR_EXTERNAL, method=cv2.CHAIN_APPROX_NONE)\n",
    "    img = cv2.drawContours(img, contour, -1, 2, 3, cv2.LINE_8)\n",
    "    img = Image.fromarray(img).convert('P')\n",
    "    img.putpalette([128, 0, 0, 0, 128, 0, 0, 0, 128])\n",
    "    img.save(os.path.join(\"data/annotations_l3/val\", img_name))"
   ]
  },
  {
   "cell_type": "code",
   "execution_count": null,
   "metadata": {},
   "outputs": [],
   "source": []
  }
 ],
 "metadata": {
  "kernelspec": {
   "display_name": "Python 3.9.16 ('dacon_segmentation-1gI87CRo')",
   "language": "python",
   "name": "python3"
  },
  "language_info": {
   "codemirror_mode": {
    "name": "ipython",
    "version": 3
   },
   "file_extension": ".py",
   "mimetype": "text/x-python",
   "name": "python",
   "nbconvert_exporter": "python",
   "pygments_lexer": "ipython3",
   "version": "3.9.16"
  },
  "orig_nbformat": 4,
  "vscode": {
   "interpreter": {
    "hash": "e8285612bc3373590e348da211fb394977401982aadb5767ee30c4aa98240201"
   }
  }
 },
 "nbformat": 4,
 "nbformat_minor": 2
}
